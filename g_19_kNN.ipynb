{
 "cells": [
  {
   "cell_type": "code",
   "execution_count": 1,
   "metadata": {
    "colab": {},
    "colab_type": "code",
    "id": "EhDjwEMvRqAF"
   },
   "outputs": [],
   "source": [
    "from sklearn.model_selection import train_test_split\n",
    "from sklearn.neighbors import KNeighborsClassifier\n",
    "import numpy as np\n",
    "%config InlineBackend.figure_format = 'retina'\n",
    "from sklearn.datasets import load_breast_cancer\n",
    "cancer = load_breast_cancer()"
   ]
  },
  {
   "cell_type": "code",
   "execution_count": 2,
   "metadata": {
    "colab": {},
    "colab_type": "code",
    "id": "VS6SgVdbRqAM"
   },
   "outputs": [],
   "source": [
    "X, y = cancer.data, cancer.target\n",
    "X_train, X_test, y_train, y_test = train_test_split(X, y)"
   ]
  },
  {
   "cell_type": "code",
   "execution_count": 5,
   "metadata": {
    "colab": {
     "base_uri": "https://localhost:8080/",
     "height": 168
    },
    "colab_type": "code",
    "executionInfo": {
     "elapsed": 845,
     "status": "ok",
     "timestamp": 1580284431585,
     "user": {
      "displayName": "김화종",
      "photoUrl": "https://lh3.googleusercontent.com/a-/AAuE7mCOtXjyLykQ_8l9Pq2rL3r5y110ynjRS1eb1EzpcQ=s64",
      "userId": "17353049580175403985"
     },
     "user_tz": -540
    },
    "id": "78F3qfwRRqAV",
    "outputId": "2fe3d5f4-7d39-4c01-b630-0699699ba42b"
   },
   "outputs": [
    {
     "name": "stdout",
     "output_type": "stream",
     "text": [
      "K가 1 일때 정확도: 0.92\n",
      "K가 4 일때 정확도: 0.92\n",
      "K가 7 일때 정확도: 0.92\n",
      "K가 10 일때 정확도: 0.92\n",
      "K가 13 일때 정확도: 0.92\n",
      "K가 16 일때 정확도: 0.92\n",
      "K가 19 일때 정확도: 0.93\n",
      "K가 22 일때 정확도: 0.92\n",
      "K가 25 일때 정확도: 0.92\n",
      "K가 28 일때 정확도: 0.92\n",
      "K가 31 일때 정확도: 0.91\n",
      "K가 34 일때 정확도: 0.91\n",
      "K가 37 일때 정확도: 0.91\n",
      "K가 40 일때 정확도: 0.90\n",
      "K가 43 일때 정확도: 0.90\n",
      "K가 46 일때 정확도: 0.90\n",
      "K가 49 일때 정확도: 0.88\n",
      "K가 52 일때 정확도: 0.89\n",
      "K가 55 일때 정확도: 0.89\n",
      "K가 58 일때 정확도: 0.89\n",
      "K가 61 일때 정확도: 0.89\n",
      "K가 64 일때 정확도: 0.89\n",
      "K가 67 일때 정확도: 0.88\n",
      "K가 70 일때 정확도: 0.89\n",
      "K가 73 일때 정확도: 0.88\n",
      "K가 76 일때 정확도: 0.89\n",
      "K가 79 일때 정확도: 0.88\n",
      "K가 82 일때 정확도: 0.88\n",
      "K가 85 일때 정확도: 0.88\n",
      "K가 88 일때 정확도: 0.87\n",
      "K가 91 일때 정확도: 0.87\n",
      "K가 94 일때 정확도: 0.87\n",
      "K가 97 일때 정확도: 0.87\n"
     ]
    }
   ],
   "source": [
    "for i in range(1,100,3):\n",
    "    knn = KNeighborsClassifier(n_neighbors=i)\n",
    "    knn.fit(X_train,y_train)\n",
    "    print(\"K가\", i, \"일때 정확도: {:.2f}\".format(knn.score(X_test, y_test)))"
   ]
  },
  {
   "cell_type": "markdown",
   "metadata": {
    "colab_type": "text",
    "id": "waQXWL7FRqAZ"
   },
   "source": [
    "## 교차 검증"
   ]
  },
  {
   "cell_type": "code",
   "execution_count": 9,
   "metadata": {
    "colab": {
     "base_uri": "https://localhost:8080/",
     "height": 34
    },
    "colab_type": "code",
    "executionInfo": {
     "elapsed": 742,
     "status": "ok",
     "timestamp": 1580284486534,
     "user": {
      "displayName": "김화종",
      "photoUrl": "https://lh3.googleusercontent.com/a-/AAuE7mCOtXjyLykQ_8l9Pq2rL3r5y110ynjRS1eb1EzpcQ=s64",
      "userId": "17353049580175403985"
     },
     "user_tz": -540
    },
    "id": "Jp87Hs6VRqAa",
    "outputId": "17b87843-2329-498d-87e1-163f604c86b6"
   },
   "outputs": [
    {
     "data": {
      "text/plain": [
       "0.9104"
      ]
     },
     "execution_count": 9,
     "metadata": {},
     "output_type": "execute_result"
    }
   ],
   "source": [
    "from sklearn.model_selection import cross_val_score, KFold\n",
    "cross_val_score(knn, X, y, cv=5).mean().round(4)"
   ]
  },
  {
   "cell_type": "code",
   "execution_count": 10,
   "metadata": {
    "colab": {
     "base_uri": "https://localhost:8080/",
     "height": 34
    },
    "colab_type": "code",
    "executionInfo": {
     "elapsed": 1261,
     "status": "ok",
     "timestamp": 1580284510444,
     "user": {
      "displayName": "김화종",
      "photoUrl": "https://lh3.googleusercontent.com/a-/AAuE7mCOtXjyLykQ_8l9Pq2rL3r5y110ynjRS1eb1EzpcQ=s64",
      "userId": "17353049580175403985"
     },
     "user_tz": -540
    },
    "id": "tquESECYRqAe",
    "outputId": "0dba1a9e-ccbf-40c3-c478-4e25d52408b3",
    "scrolled": true
   },
   "outputs": [
    {
     "data": {
      "text/plain": [
       "0.9104"
      ]
     },
     "execution_count": 10,
     "metadata": {},
     "output_type": "execute_result"
    }
   ],
   "source": [
    "cross_val_score(knn, X, y, cv=5).mean().round(4)"
   ]
  },
  {
   "cell_type": "markdown",
   "metadata": {
    "colab_type": "text",
    "id": "NojjiKE9THNy"
   },
   "source": [
    "## 스케일링 수행"
   ]
  },
  {
   "cell_type": "code",
   "execution_count": 12,
   "metadata": {
    "colab": {
     "base_uri": "https://localhost:8080/",
     "height": 34
    },
    "colab_type": "code",
    "executionInfo": {
     "elapsed": 1229,
     "status": "ok",
     "timestamp": 1580284534100,
     "user": {
      "displayName": "김화종",
      "photoUrl": "https://lh3.googleusercontent.com/a-/AAuE7mCOtXjyLykQ_8l9Pq2rL3r5y110ynjRS1eb1EzpcQ=s64",
      "userId": "17353049580175403985"
     },
     "user_tz": -540
    },
    "id": "VObQfHPgRqAi",
    "outputId": "befb2090-d45e-421c-b4ff-3ce09c2a0d5f"
   },
   "outputs": [
    {
     "data": {
      "text/plain": [
       "0.9315"
      ]
     },
     "execution_count": 12,
     "metadata": {},
     "output_type": "execute_result"
    }
   ],
   "source": [
    "from sklearn.preprocessing import StandardScaler\n",
    "sc = StandardScaler()\n",
    "X_sc = sc.fit_transform(X)\n",
    "cross_val_score(knn, X_sc, y, cv=5).mean().round(4)"
   ]
  }
 ],
 "metadata": {
  "colab": {
   "collapsed_sections": [],
   "name": "g_20_kNN.ipynb",
   "provenance": []
  },
  "kernelspec": {
   "display_name": "Python 3",
   "language": "python",
   "name": "python3"
  },
  "language_info": {
   "codemirror_mode": {
    "name": "ipython",
    "version": 3
   },
   "file_extension": ".py",
   "mimetype": "text/x-python",
   "name": "python",
   "nbconvert_exporter": "python",
   "pygments_lexer": "ipython3",
   "version": "3.7.6"
  },
  "toc": {
   "base_numbering": 1,
   "nav_menu": {},
   "number_sections": true,
   "sideBar": true,
   "skip_h1_title": false,
   "title_cell": "Table of Contents",
   "title_sidebar": "Contents",
   "toc_cell": false,
   "toc_position": {},
   "toc_section_display": true,
   "toc_window_display": false
  }
 },
 "nbformat": 4,
 "nbformat_minor": 1
}
